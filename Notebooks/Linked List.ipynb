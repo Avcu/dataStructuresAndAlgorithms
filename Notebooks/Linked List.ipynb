{
 "cells": [
  {
   "cell_type": "markdown",
   "metadata": {},
   "source": [
    "## Single link list"
   ]
  },
  {
   "cell_type": "code",
   "execution_count": 1,
   "metadata": {},
   "outputs": [],
   "source": [
    "class myListNode(object):\n",
    "    def __init__(self, val=0, next=None):\n",
    "        self.val = val\n",
    "        self.next = next"
   ]
  },
  {
   "cell_type": "code",
   "execution_count": 2,
   "metadata": {},
   "outputs": [],
   "source": [
    "head_node = myListNode(val=10)\n",
    "\n",
    "val_arr = [20, 30, 40]\n",
    "ite_node = head_node\n",
    "for cur_val in val_arr:\n",
    "    temp_node = myListNode(val=cur_val)\n",
    "    ite_node.next = temp_node\n",
    "    ite_node = ite_node.next"
   ]
  },
  {
   "cell_type": "code",
   "execution_count": 3,
   "metadata": {},
   "outputs": [
    {
     "name": "stdout",
     "output_type": "stream",
     "text": [
      "10\n",
      "20\n",
      "30\n",
      "40\n"
     ]
    }
   ],
   "source": [
    "# print the elements\n",
    "ite_node = head_node\n",
    "while ite_node != None:\n",
    "    print(ite_node.val)\n",
    "    ite_node = ite_node.next"
   ]
  },
  {
   "cell_type": "code",
   "execution_count": 6,
   "metadata": {},
   "outputs": [],
   "source": [
    "class myDoubleListNode(object):\n",
    "    def __init__(self, val=0, prev=None, next=None):\n",
    "        self.val = val\n",
    "        self.prev = prev\n",
    "        self.next = next"
   ]
  },
  {
   "cell_type": "code",
   "execution_count": 7,
   "metadata": {},
   "outputs": [],
   "source": [
    "# initialize a head and tail\n",
    "head_node = myDoubleListNode(val=-1)\n",
    "tail_node = myDoubleListNode(val=-1)\n",
    "\n",
    "head_node.next = tail_node\n",
    "tail_node.prev = head_node"
   ]
  },
  {
   "cell_type": "code",
   "execution_count": 8,
   "metadata": {},
   "outputs": [],
   "source": [
    "node_v1 = myDoubleListNode(val=10)\n",
    "\n",
    "# add it after the head node\n",
    "node_v1.next = head_node.next\n",
    "node_v1.prev = head_node\n",
    "\n",
    "head_node.next = node_v1\n",
    "node_v1.next.prev = node_v1\n",
    "\n",
    "node_v2 = myDoubleListNode(val=20)\n",
    "\n",
    "# add it after the head node\n",
    "node_v2.next = head_node.next\n",
    "node_v2.prev = head_node\n",
    "\n",
    "head_node.next = node_v2\n",
    "node_v2.next.prev = node_v2\n"
   ]
  },
  {
   "cell_type": "code",
   "execution_count": 9,
   "metadata": {},
   "outputs": [
    {
     "name": "stdout",
     "output_type": "stream",
     "text": [
      "-1\n",
      "20\n",
      "10\n",
      "-1\n"
     ]
    }
   ],
   "source": [
    "# print the elements\n",
    "ite_node = head_node\n",
    "while ite_node != None:\n",
    "    print(ite_node.val)\n",
    "    ite_node = ite_node.next"
   ]
  },
  {
   "cell_type": "code",
   "execution_count": null,
   "metadata": {
    "id": "fsKH8GfxkMG5"
   },
   "outputs": [],
   "source": []
  }
 ],
 "metadata": {
  "interpreter": {
   "hash": "31f2aee4e71d21fbe5cf8b01ff0e069b9275f58929596ceb00d14d90e3e16cd6"
  },
  "kernelspec": {
   "display_name": "Python 3.7.3 64-bit",
   "language": "python",
   "name": "python3"
  },
  "language_info": {
   "codemirror_mode": {
    "name": "ipython",
    "version": 3
   },
   "file_extension": ".py",
   "mimetype": "text/x-python",
   "name": "python",
   "nbconvert_exporter": "python",
   "pygments_lexer": "ipython3",
   "version": "3.7.3"
  },
  "orig_nbformat": 4
 },
 "nbformat": 4,
 "nbformat_minor": 2
}
