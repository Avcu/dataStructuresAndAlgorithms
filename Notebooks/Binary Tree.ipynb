{
 "cells": [
  {
   "cell_type": "markdown",
   "metadata": {},
   "source": [
    "## Binary Tree Implementation"
   ]
  },
  {
   "cell_type": "code",
   "execution_count": 41,
   "metadata": {},
   "outputs": [],
   "source": [
    "class myBinaryTree(object):\n",
    "    def __init__(self, val=0, right=None, left=None):\n",
    "        self.val = val\n",
    "        self.right = right\n",
    "        self.left = left\n",
    "\n",
    "    def addNode(self, val):\n",
    "        if val:\n",
    "            # add to the left\n",
    "            if val < self.val:\n",
    "                if self.left is None:\n",
    "                    new_node = myBinaryTree(val=val)\n",
    "                    self.left = new_node\n",
    "                else:\n",
    "                    self.left.addNode(val)\n",
    "            # add to the right\n",
    "            else:\n",
    "                if self.right is None:\n",
    "                    new_node = myBinaryTree(val=val)\n",
    "                    self.right = new_node\n",
    "                else:\n",
    "                    self.right.addNode(val)\n",
    "\n",
    "    # called in order because result is automatically sorted\n",
    "    def printInOrder(self, root):\n",
    "        # if None is not executed\n",
    "        if root:\n",
    "            self.printInOrder(root.left)\n",
    "            print(root.val)\n",
    "            self.printInOrder(root.right)\n",
    "\n",
    "    def printPreOrder(self, root):\n",
    "        if root:\n",
    "            print(root.val)\n",
    "            self.printPreOrder(root.left)\n",
    "            self.printPreOrder(root.right)\n",
    "\n",
    "    def printPostOrder(self, root):\n",
    "        if root:\n",
    "            self.printPostOrder(root.left)\n",
    "            self.printPostOrder(root.right)\n",
    "            print(root.val)"
   ]
  },
  {
   "cell_type": "code",
   "execution_count": 42,
   "metadata": {},
   "outputs": [],
   "source": [
    "myTree = myBinaryTree(val=10)\n",
    "\n",
    "myTree.addNode(val=20)\n",
    "myTree.addNode(val=5)\n",
    "myTree.addNode(val=1)\n",
    "myTree.addNode(val=12)\n",
    "myTree.addNode(val=18)\n",
    "myTree.addNode(val=31)"
   ]
  },
  {
   "cell_type": "code",
   "execution_count": 43,
   "metadata": {},
   "outputs": [
    {
     "name": "stdout",
     "output_type": "stream",
     "text": [
      "1\n",
      "5\n",
      "10\n",
      "12\n",
      "18\n",
      "20\n",
      "31\n"
     ]
    }
   ],
   "source": [
    "myTree.printInOrder(myTree)"
   ]
  },
  {
   "cell_type": "code",
   "execution_count": 44,
   "metadata": {},
   "outputs": [
    {
     "name": "stdout",
     "output_type": "stream",
     "text": [
      "10\n",
      "5\n",
      "1\n",
      "20\n",
      "12\n",
      "18\n",
      "31\n"
     ]
    }
   ],
   "source": [
    "myTree.printPreOrder(myTree)"
   ]
  },
  {
   "cell_type": "code",
   "execution_count": 45,
   "metadata": {},
   "outputs": [
    {
     "name": "stdout",
     "output_type": "stream",
     "text": [
      "1\n",
      "5\n",
      "18\n",
      "12\n",
      "31\n",
      "20\n",
      "10\n"
     ]
    }
   ],
   "source": [
    "myTree.printPostOrder(myTree)"
   ]
  },
  {
   "cell_type": "code",
   "execution_count": null,
   "metadata": {},
   "outputs": [],
   "source": []
  },
  {
   "cell_type": "code",
   "execution_count": null,
   "metadata": {},
   "outputs": [],
   "source": []
  }
 ],
 "metadata": {
  "interpreter": {
   "hash": "31f2aee4e71d21fbe5cf8b01ff0e069b9275f58929596ceb00d14d90e3e16cd6"
  },
  "kernelspec": {
   "display_name": "Python 3.7.3 64-bit",
   "language": "python",
   "name": "python3"
  },
  "language_info": {
   "codemirror_mode": {
    "name": "ipython",
    "version": 3
   },
   "file_extension": ".py",
   "mimetype": "text/x-python",
   "name": "python",
   "nbconvert_exporter": "python",
   "pygments_lexer": "ipython3",
   "version": "3.7.3"
  },
  "orig_nbformat": 4
 },
 "nbformat": 4,
 "nbformat_minor": 2
}
