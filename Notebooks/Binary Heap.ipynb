{
 "cells": [
  {
   "cell_type": "markdown",
   "metadata": {},
   "source": [
    "## Binary Min-Heap Implementation\n",
    "### A binary heap is a complete (no gaps in the tree) binary tree which satisfies the heap ordering property. Ordering property for a min-heap implies that all the parent's values are less than its childs, and consequently root has the min value among all. \n",
    "\n",
    "### Implementation: \n",
    "- Values are stored in an array starting from index 1\n",
    "- Given a node located at index k, its left child is at index 2*k and its right child is at index 2*k+1\n",
    "- Given a node located at index k, its parent is at index floor(k/2)\n",
    "- Heapify forms the heap given initial values in O(n) uses a function called percolateDown which pushes the nodes down in the tree until the ordering property is satisfied\n",
    "- Insert function adds a new value to the heap, and push the value up until the ordering property is satisfied\n",
    "- deleteMin function returns and deletes the min value, then put the last value into the root and percolateDown\n"
   ]
  },
  {
   "cell_type": "code",
   "execution_count": 1,
   "metadata": {},
   "outputs": [],
   "source": [
    "class myBinaryHeap(object):\n",
    "\n",
    "    def __init__(self, init_vals=None, maxSize=100):\n",
    "        self.maxSize = maxSize\n",
    "        self.heap = [0]*(self.maxSize+1)\n",
    "        self.heap[0] = -1\n",
    "        if init_vals:\n",
    "            self.size = len(init_vals)\n",
    "            self.heap[1:self.size+1] = init_vals\n",
    "            self.heapify()\n",
    "        else:\n",
    "            self.size = 0\n",
    "\n",
    "    # parent node position\n",
    "    def parentPos(self, pos):\n",
    "        return pos//2\n",
    "\n",
    "    # right child node position\n",
    "    def rigthChildPos(self, pos):\n",
    "        return pos*2 + 1\n",
    "\n",
    "    # left child node position\n",
    "    def leftChildPos(self, pos):\n",
    "        return pos*2\n",
    "\n",
    "    # swap two nodes\n",
    "    def swapNodes(self, pos1, pos2):\n",
    "        self.heap[pos1], self.heap[pos2] = self.heap[pos2], self.heap[pos1] \n",
    "\n",
    "    # is given node a leaf\n",
    "    def isLeaf(self, pos):\n",
    "        if pos > self.size//2 and pos <= self.size:\n",
    "            return True\n",
    "        return False\n",
    "    \n",
    "    # percolate down the given node until the ordering structure is protected\n",
    "    def percolateDown(self, pos):\n",
    "        if (not self.isLeaf(pos)) and pos <= self.size:\n",
    "            # there is only left child\n",
    "            if self.rigthChildPos(pos) > self.size:\n",
    "                if self.heap[pos] > self.heap[self.leftChildPos(pos)]:\n",
    "                    print('-- Switching {} and {}'.format(self.heap[pos], self.heap[self.leftChildPos(pos)]))    \n",
    "                    self.swapNodes(pos, self.leftChildPos(pos))\n",
    "            # both child exist\n",
    "            else:\n",
    "                if self.heap[pos] > self.heap[self.leftChildPos(pos)] or self.heap[pos] > self.heap[self.rigthChildPos(pos)]:          \n",
    "                    # right child value is bigger than left child value, then replace the parent with the left child\n",
    "                    if self.heap[self.rigthChildPos(pos)] > self.heap[self.leftChildPos(pos)]:\n",
    "                        print('-- Switching {} and {}'.format(self.heap[pos], self.heap[self.leftChildPos(pos)]))\n",
    "                        self.swapNodes(pos, self.leftChildPos(pos))\n",
    "                        self.percolateDown(self.leftChildPos(pos))\n",
    "\n",
    "                    # otherwise replace the parent with the right child\n",
    "                    else:\n",
    "                        print('-- Switching {} and {}'.format(self.heap[pos], self.heap[self.rigthChildPos(pos)]))\n",
    "                        self.swapNodes(pos, self.rigthChildPos(pos))\n",
    "                        self.percolateDown(self.rigthChildPos(pos))\n",
    "\n",
    "    # heapify the values using percolateDown function \n",
    "    def heapify(self):\n",
    "        for pos in range(self.size//2, 0 ,-1):\n",
    "            print('Heapify, pos: {}'.format(pos))\n",
    "            self.percolateDown(pos)\n",
    "\n",
    "    # insert a new value to the heap\n",
    "    def insert(self, val):\n",
    "        if self.size >= self.maxSize:\n",
    "            return\n",
    "        self.size = self.size + 1\n",
    "        self.heap[self.size] = val\n",
    "\n",
    "        pos = self.size\n",
    "        # percolate up until the ordering structure is protected\n",
    "        while self.heap[pos] < self.heap[self.parentPos(pos)]:\n",
    "            print('-- Switching {} and {}'.format(self.heap[pos], self.heap[self.parentPos(pos)]))\n",
    "            self.swapNodes(pos, self.parentPos(pos))\n",
    "            pos = self.parentPos(pos)\n",
    "\n",
    "    # return and deletes the min\n",
    "    def deleteMin(self):\n",
    "        popped = self.heap[1]\n",
    "        self.heap[1] = self.heap[self.size]\n",
    "        self.size = self.size - 1\n",
    "        self.percolateDown(1)\n",
    "        return popped\n",
    "\n",
    "    # print the values of in the heap\n",
    "    def print(self):\n",
    "        print(self.heap[:self.size+1])\n",
    "        for pos in range(1, self.size//2+1):\n",
    "            print('Parent: {}, Right child: {}, Left child: {}'.format(self.heap[pos], self.heap[self.rigthChildPos(pos)], self.heap[self.leftChildPos(pos)]))\n",
    "\n"
   ]
  },
  {
   "cell_type": "code",
   "execution_count": 2,
   "metadata": {},
   "outputs": [
    {
     "name": "stdout",
     "output_type": "stream",
     "text": [
      "Heapify, pos: 4\n",
      "Heapify, pos: 3\n",
      "-- Switching 5 and 3\n",
      "Heapify, pos: 2\n",
      "-- Switching 12 and 2\n",
      "Heapify, pos: 1\n",
      "-- Switching 7 and 2\n",
      "-- Switching 7 and 4\n",
      "[-1, 2, 4, 3, 12, 7, 16, 5, 23]\n",
      "Parent: 2, Right child: 3, Left child: 4\n",
      "Parent: 4, Right child: 7, Left child: 12\n",
      "Parent: 3, Right child: 5, Left child: 16\n",
      "Parent: 12, Right child: 0, Left child: 23\n"
     ]
    }
   ],
   "source": [
    "init_vals = [7, 12, 5, 2, 4, 16, 3, 23]\n",
    "minHeap = myBinaryHeap(init_vals = init_vals)\n",
    "\n",
    "minHeap.print()\n"
   ]
  },
  {
   "cell_type": "markdown",
   "metadata": {},
   "source": [
    "<img src=\"images/heap/heapified.png\" width=\"400\" height=\"400\">"
   ]
  },
  {
   "cell_type": "code",
   "execution_count": 3,
   "metadata": {},
   "outputs": [
    {
     "name": "stdout",
     "output_type": "stream",
     "text": [
      "-- Switching 1 and 12\n",
      "-- Switching 1 and 4\n",
      "-- Switching 1 and 2\n",
      "[-1, 1, 2, 3, 4, 7, 16, 5, 23, 12]\n",
      "Parent: 1, Right child: 3, Left child: 2\n",
      "Parent: 2, Right child: 7, Left child: 4\n",
      "Parent: 3, Right child: 5, Left child: 16\n",
      "Parent: 4, Right child: 12, Left child: 23\n"
     ]
    }
   ],
   "source": [
    "minHeap.insert(1)\n",
    "minHeap.print()"
   ]
  },
  {
   "cell_type": "markdown",
   "metadata": {},
   "source": [
    "<img src=\"images/heap/inserting_1.png\" width=\"400\" height=\"400\">"
   ]
  },
  {
   "cell_type": "code",
   "execution_count": null,
   "metadata": {},
   "outputs": [],
   "source": []
  }
 ],
 "metadata": {
  "interpreter": {
   "hash": "31f2aee4e71d21fbe5cf8b01ff0e069b9275f58929596ceb00d14d90e3e16cd6"
  },
  "kernelspec": {
   "display_name": "Python 3.7.3 64-bit",
   "language": "python",
   "name": "python3"
  },
  "language_info": {
   "codemirror_mode": {
    "name": "ipython",
    "version": 3
   },
   "file_extension": ".py",
   "mimetype": "text/x-python",
   "name": "python",
   "nbconvert_exporter": "python",
   "pygments_lexer": "ipython3",
   "version": "3.7.3"
  },
  "orig_nbformat": 4
 },
 "nbformat": 4,
 "nbformat_minor": 2
}
