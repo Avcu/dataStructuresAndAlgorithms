{
 "cells": [
  {
   "cell_type": "markdown",
   "metadata": {},
   "source": [
    "## Python Strings\n",
    "\n",
    "#### Some commonly used built-in functions to manipulate strings are listed below\n",
    "\n",
    "https://www.programiz.com/python-programming/string"
   ]
  },
  {
   "cell_type": "markdown",
   "metadata": {},
   "source": [
    "---\n",
    "- **`str1+str2`**   concatenates the given two strings\n",
    "- **`str*x`**   repeat the string for a given number of times\n",
    "- **`enumerate()`** returns the index and corresponding value as pairs in a list \n",
    "- **`len(str s)`**    returns the length of the string s\n",
    "- **`join(iterable)`**  returns a string by joining all the elements of an iterable\n",
    "- **`find(substr s)`**  returns the index of first occurence of the substring s, if not found, returns -1\n",
    "- **`count(substr s)`**  returns the number of occurences of a substring s\n",
    "- **`isalpha()`**   returns True if all the characters are alphabet letters, otherwise return False\n",
    "- **`isdigit()`**   returns True if all the characters are digits, otherwise return False\n",
    "- **`isalnum()`**   returns True if all the characters are alphanumeric, otherwise return False\n",
    "---"
   ]
  },
  {
   "cell_type": "markdown",
   "metadata": {},
   "source": [
    "### Strings are immutable, meaning elements of a string cannot be modified once the string has been created"
   ]
  },
  {
   "cell_type": "code",
   "execution_count": 1,
   "metadata": {},
   "outputs": [
    {
     "ename": "TypeError",
     "evalue": "'str' object does not support item assignment",
     "output_type": "error",
     "traceback": [
      "\u001b[0;31m---------------------------------------------------------------------------\u001b[0m",
      "\u001b[0;31mTypeError\u001b[0m                                 Traceback (most recent call last)",
      "\u001b[0;32m/var/folders/jv/f86_mq5d3cdcrr2fk3_0ykh00000gn/T/ipykernel_20178/1278619748.py\u001b[0m in \u001b[0;36m<module>\u001b[0;34m\u001b[0m\n\u001b[1;32m      1\u001b[0m \u001b[0mmy_str\u001b[0m \u001b[0;34m=\u001b[0m \u001b[0;34m\"Alice\"\u001b[0m\u001b[0;34m\u001b[0m\u001b[0;34m\u001b[0m\u001b[0m\n\u001b[0;32m----> 2\u001b[0;31m \u001b[0mmy_str\u001b[0m\u001b[0;34m[\u001b[0m\u001b[0;36m1\u001b[0m\u001b[0;34m]\u001b[0m \u001b[0;34m=\u001b[0m \u001b[0;34m'K'\u001b[0m\u001b[0;34m\u001b[0m\u001b[0;34m\u001b[0m\u001b[0m\n\u001b[0m",
      "\u001b[0;31mTypeError\u001b[0m: 'str' object does not support item assignment"
     ]
    }
   ],
   "source": [
    "my_str = \"Alice\"\n",
    "my_str[1] = 'K'"
   ]
  },
  {
   "cell_type": "code",
   "execution_count": 2,
   "metadata": {},
   "outputs": [
    {
     "name": "stdout",
     "output_type": "stream",
     "text": [
      "Alice\n"
     ]
    },
    {
     "ename": "TypeError",
     "evalue": "'str' object doesn't support item deletion",
     "output_type": "error",
     "traceback": [
      "\u001b[0;31m---------------------------------------------------------------------------\u001b[0m",
      "\u001b[0;31mTypeError\u001b[0m                                 Traceback (most recent call last)",
      "\u001b[0;32m/var/folders/jv/f86_mq5d3cdcrr2fk3_0ykh00000gn/T/ipykernel_20178/1255011124.py\u001b[0m in \u001b[0;36m<module>\u001b[0;34m\u001b[0m\n\u001b[1;32m      1\u001b[0m \u001b[0mprint\u001b[0m\u001b[0;34m(\u001b[0m\u001b[0mmy_str\u001b[0m\u001b[0;34m)\u001b[0m\u001b[0;34m\u001b[0m\u001b[0;34m\u001b[0m\u001b[0m\n\u001b[1;32m      2\u001b[0m \u001b[0;34m\u001b[0m\u001b[0m\n\u001b[0;32m----> 3\u001b[0;31m \u001b[0;32mdel\u001b[0m \u001b[0mmy_str\u001b[0m\u001b[0;34m[\u001b[0m\u001b[0;36m1\u001b[0m\u001b[0;34m]\u001b[0m\u001b[0;34m\u001b[0m\u001b[0;34m\u001b[0m\u001b[0m\n\u001b[0m",
      "\u001b[0;31mTypeError\u001b[0m: 'str' object doesn't support item deletion"
     ]
    }
   ],
   "source": [
    "print(my_str)\n",
    "\n",
    "del my_str[1]"
   ]
  },
  {
   "cell_type": "markdown",
   "metadata": {},
   "source": [
    "### basic operations"
   ]
  },
  {
   "cell_type": "code",
   "execution_count": 14,
   "metadata": {},
   "outputs": [
    {
     "name": "stdout",
     "output_type": "stream",
     "text": [
      "This is astring\n",
      "stringstringstring\n"
     ]
    }
   ],
   "source": [
    "str1 = 'This is a'\n",
    "str2 = 'string'\n",
    "\n",
    "print(str1+str2)\n",
    "print(str2*3)"
   ]
  },
  {
   "cell_type": "markdown",
   "metadata": {},
   "source": [
    "### enumerate"
   ]
  },
  {
   "cell_type": "code",
   "execution_count": 7,
   "metadata": {},
   "outputs": [
    {
     "name": "stdout",
     "output_type": "stream",
     "text": [
      "[(0, 'T'), (1, 'h'), (2, 'i'), (3, 's'), (4, ' '), (5, 'i'), (6, 's'), (7, ' '), (8, 'a')]\n",
      "9\n"
     ]
    }
   ],
   "source": [
    "myList = list(enumerate(str1))\n",
    "\n",
    "print(myList)\n",
    "print(len(myList))"
   ]
  },
  {
   "cell_type": "markdown",
   "metadata": {},
   "source": [
    "### join"
   ]
  },
  {
   "cell_type": "code",
   "execution_count": 13,
   "metadata": {},
   "outputs": [
    {
     "name": "stdout",
     "output_type": "stream",
     "text": [
      "This#is#an#example#list#to#be#joined\n",
      "This is an example list to be joined\n",
      "This example list joined\n"
     ]
    }
   ],
   "source": [
    "listToJoin = ['This', 'is', 'an', 'example', 'list', 'to', 'be', 'joined']\n",
    "\n",
    "str3 = '#'.join(listToJoin)\n",
    "str4 = ' '.join(listToJoin)\n",
    "str5 = ' '.join(elem for elem in listToJoin if len(elem)>2)\n",
    "\n",
    "\n",
    "print(str3)\n",
    "print(str4)\n",
    "print(str5)"
   ]
  },
  {
   "cell_type": "markdown",
   "metadata": {},
   "source": [
    "### find"
   ]
  },
  {
   "cell_type": "code",
   "execution_count": 18,
   "metadata": {},
   "outputs": [
    {
     "name": "stdout",
     "output_type": "stream",
     "text": [
      "7\n",
      "2\n"
     ]
    }
   ],
   "source": [
    "my_str = 'Happy New Year, Andrew'\n",
    "\n",
    "print(my_str.find('ew'))\n",
    "print(my_str.count('ew'))"
   ]
  },
  {
   "cell_type": "markdown",
   "metadata": {},
   "source": [
    "### isalpha, isdigit, isalnum"
   ]
  },
  {
   "cell_type": "code",
   "execution_count": 23,
   "metadata": {},
   "outputs": [
    {
     "name": "stdout",
     "output_type": "stream",
     "text": [
      "--> isalpha()\n",
      "False\n",
      "True\n",
      "False\n",
      "False\n",
      "--> isdigit()\n",
      "False\n",
      "False\n",
      "True\n",
      "False\n",
      "--> isalnum()\n",
      "True\n",
      "True\n",
      "True\n",
      "False\n"
     ]
    }
   ],
   "source": [
    "str1 = 'fdv53x4'\n",
    "str2 = 'fdsf'\n",
    "str3 = '4685'\n",
    "str4 = '%qfd!-56ym$'\n",
    "\n",
    "print('--> isalpha()')\n",
    "print(str1.isalpha())\n",
    "print(str2.isalpha())\n",
    "print(str3.isalpha())\n",
    "print(str4.isalpha())\n",
    "\n",
    "print('--> isdigit()')\n",
    "print(str1.isdigit())\n",
    "print(str2.isdigit())\n",
    "print(str3.isdigit())\n",
    "print(str4.isdigit())\n",
    "\n",
    "print('--> isalnum()')\n",
    "print(str1.isalnum())\n",
    "print(str2.isalnum())\n",
    "print(str3.isalnum())\n",
    "print(str4.isalnum())\n"
   ]
  },
  {
   "cell_type": "markdown",
   "metadata": {},
   "source": [
    "### A regular expression (RE) offers functions that let you check if a particular string matches a given regular expression"
   ]
  },
  {
   "cell_type": "markdown",
   "metadata": {},
   "source": [
    "---\n",
    "- **`[abc]`** match if contains any of the a, b, or c\n",
    "- **`[a-e]=[abcde]`** match if contains any of the a, b, ..., e\n",
    "- **`[1-4]=[1234]`** match if contains any of the 1,2,3, or 4\n",
    "- **`[^abc]`** match if contains anything but a, b, or c\n",
    "- **`[^0-9]`** match if contains anything but digits\n",
    "\n",
    "- **`..`** match if contains any two characters\n",
    "- **`^a`** match if starts with a\n",
    "- **`a$`** match if ends with a\n",
    "---"
   ]
  },
  {
   "cell_type": "code",
   "execution_count": 24,
   "metadata": {},
   "outputs": [],
   "source": [
    "import re"
   ]
  },
  {
   "cell_type": "markdown",
   "metadata": {},
   "source": [
    "### re.match(pattern, string s): returns a match object if the search is successful. If not, return None"
   ]
  },
  {
   "cell_type": "code",
   "execution_count": 66,
   "metadata": {},
   "outputs": [],
   "source": [
    "my_str = ['This', 'is', 'more', 'than', '30', 'characters']"
   ]
  },
  {
   "cell_type": "code",
   "execution_count": 69,
   "metadata": {},
   "outputs": [
    {
     "name": "stdout",
     "output_type": "stream",
     "text": [
      "T\n",
      "i\n",
      "m\n",
      "t\n",
      "c\n"
     ]
    }
   ],
   "source": [
    "for elem in my_str:\n",
    "    re_match = re.match(r'[A-Za-z]', elem)\n",
    "    if re_match:\n",
    "        print(re_match.group())"
   ]
  },
  {
   "cell_type": "code",
   "execution_count": 70,
   "metadata": {},
   "outputs": [
    {
     "name": "stdout",
     "output_type": "stream",
     "text": [
      "3\n"
     ]
    }
   ],
   "source": [
    "for elem in my_str:\n",
    "    re_match = re.match(r'[0-9]', elem)\n",
    "    if re_match:\n",
    "        print(re_match.group())"
   ]
  },
  {
   "cell_type": "markdown",
   "metadata": {},
   "source": [
    "### re.sub(pattern, replace, string s): returns a string where matched occurrences are replaced with 'replace'"
   ]
  },
  {
   "cell_type": "code",
   "execution_count": 71,
   "metadata": {},
   "outputs": [],
   "source": [
    "my_str = 'This is a random $ string @ with very weird --- characters'"
   ]
  },
  {
   "cell_type": "code",
   "execution_count": 72,
   "metadata": {},
   "outputs": [
    {
     "name": "stdout",
     "output_type": "stream",
     "text": [
      "This is a random  string  with very weird  characters\n"
     ]
    }
   ],
   "source": [
    "pruned_str = re.sub(r'[^A-Za-z0-9 ]', '', my_str)\n",
    "print(pruned_str)"
   ]
  },
  {
   "cell_type": "code",
   "execution_count": 73,
   "metadata": {},
   "outputs": [
    {
     "name": "stdout",
     "output_type": "stream",
     "text": [
      "$@---\n"
     ]
    }
   ],
   "source": [
    "weird_str = re.sub(r'[A-Za-z0-9 ]', '', my_str)\n",
    "print(weird_str)"
   ]
  },
  {
   "cell_type": "code",
   "execution_count": null,
   "metadata": {},
   "outputs": [],
   "source": []
  }
 ],
 "metadata": {
  "interpreter": {
   "hash": "8e2d1abb0dfe5169908027dfd7893411454464c649c456662c55fb1e1654d964"
  },
  "kernelspec": {
   "display_name": "Python 3.7.3 64-bit",
   "language": "python",
   "name": "python3"
  },
  "language_info": {
   "codemirror_mode": {
    "name": "ipython",
    "version": 3
   },
   "file_extension": ".py",
   "mimetype": "text/x-python",
   "name": "python",
   "nbconvert_exporter": "python",
   "pygments_lexer": "ipython3",
   "version": "3.7.3"
  },
  "orig_nbformat": 4
 },
 "nbformat": 4,
 "nbformat_minor": 2
}
