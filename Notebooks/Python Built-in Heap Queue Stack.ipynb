{
 "cells": [
  {
   "cell_type": "markdown",
   "metadata": {},
   "source": [
    "# Heap in Python\n",
    "### Python heapq class offers an easy usage of heaps, and by default min-heap is implemented.\n",
    "\n",
    "https://docs.python.org/3/library/heapq.html"
   ]
  },
  {
   "cell_type": "markdown",
   "metadata": {},
   "source": [
    "---\n",
    "-   **`heapify(list x)`**: transform the list x into a heap in linear time\n",
    "-   **`heappush(heap, value)`**: push the value onto the heap\n",
    "-   **`headpop(heap)`**: pop and return the smallest value\n",
    "-   **`heappushpop(heap, value)`**: push the value onto the heap, and pop and return the smallest value\n",
    "-   **`heapreplace(heap, value)`**: pop and return the smallest value from the heap, and then push the value\n",
    "---"
   ]
  },
  {
   "cell_type": "code",
   "execution_count": 2,
   "metadata": {},
   "outputs": [],
   "source": [
    "from heapq import heapify, heappush, heappop, heappushpop, heapreplace"
   ]
  },
  {
   "cell_type": "code",
   "execution_count": 7,
   "metadata": {},
   "outputs": [
    {
     "name": "stdout",
     "output_type": "stream",
     "text": [
      "[2, 4, 6, 12, 7, 16, 23]\n"
     ]
    }
   ],
   "source": [
    "heap = [7, 12, 6, 2, 4, 16, 23]\n",
    "\n",
    "heapify(heap)\n",
    "print(heap)"
   ]
  },
  {
   "cell_type": "markdown",
   "metadata": {},
   "source": [
    "<img src=\"images/builtinHeapQueueStack/heapified.png\" width=\"500\" height=\"400\">"
   ]
  },
  {
   "cell_type": "code",
   "execution_count": 8,
   "metadata": {},
   "outputs": [
    {
     "name": "stdout",
     "output_type": "stream",
     "text": [
      "[1, 2, 6, 4, 7, 16, 23, 12]\n"
     ]
    }
   ],
   "source": [
    "heappush(heap, 1)\n",
    "print(heap)"
   ]
  },
  {
   "cell_type": "markdown",
   "metadata": {},
   "source": [
    "<img src=\"images/builtinHeapQueueStack/heap_push_1.png\" width=\"500\" height=\"400\">"
   ]
  },
  {
   "cell_type": "code",
   "execution_count": 9,
   "metadata": {},
   "outputs": [
    {
     "name": "stdout",
     "output_type": "stream",
     "text": [
      "1\n",
      "[2, 4, 6, 5, 7, 16, 23, 12]\n"
     ]
    }
   ],
   "source": [
    "x = heappushpop(heap, 5)\n",
    "\n",
    "print(x)\n",
    "print(heap)"
   ]
  },
  {
   "cell_type": "markdown",
   "metadata": {},
   "source": [
    "<img src=\"images/builtinHeapQueueStack/heap_pushpop_5.png\" width=\"500\" height=\"400\">"
   ]
  },
  {
   "cell_type": "code",
   "execution_count": 10,
   "metadata": {},
   "outputs": [
    {
     "name": "stdout",
     "output_type": "stream",
     "text": [
      "2\n",
      "[3, 4, 6, 5, 7, 16, 23, 12]\n"
     ]
    }
   ],
   "source": [
    "x = heapreplace(heap, 3)\n",
    "\n",
    "print(x)\n",
    "print(heap)"
   ]
  },
  {
   "cell_type": "markdown",
   "metadata": {},
   "source": [
    "<img src=\"images/builtinHeapQueueStack/heap_replace_3.png\" width=\"500\" height=\"400\">"
   ]
  },
  {
   "cell_type": "code",
   "execution_count": null,
   "metadata": {},
   "outputs": [],
   "source": []
  },
  {
   "cell_type": "markdown",
   "metadata": {},
   "source": [
    "# Queue and Stack in Python\n",
    "### Queues can be imported from two Python libraries:\n",
    "\n",
    "* deque from collections: https://docs.python.org/3/library/collections.html#collections.deque\n",
    "* Queue from queue class: https://docs.python.org/3/library/queue.html#queue.Queue\n",
    "\n",
    "### I will use deque module from collections here as it also facilitate stacks\n"
   ]
  },
  {
   "cell_type": "markdown",
   "metadata": {},
   "source": [
    "---\n",
    "-   **`append(x)`**: add x to the right side of the deque\n",
    "-   **`pop()`**: pop and return an element from the right side of the deque\n",
    "-   **`popleft()`**: pop and return an element from the left side of the deque\n",
    "-   **`len()`**: return the number of elements in the deque\n",
    "---\n",
    "-   **`insert(i, x)`**: insert x into the deque at position i\n",
    "-   **`count(x)`**: count the number of elements equal to x\n",
    "-   **`remove(x)`**: remove the first occurrence of x\n",
    "-   **`rotate(n)`**: rotate the deque n steps to the right, n=1 equals to d.appendleft(d.pop())\n",
    "---"
   ]
  },
  {
   "cell_type": "code",
   "execution_count": 50,
   "metadata": {},
   "outputs": [],
   "source": [
    "from collections import deque"
   ]
  },
  {
   "cell_type": "code",
   "execution_count": 51,
   "metadata": {},
   "outputs": [],
   "source": [
    "q = deque()"
   ]
  },
  {
   "cell_type": "code",
   "execution_count": 52,
   "metadata": {},
   "outputs": [],
   "source": [
    "q.append('a')\n",
    "q.append('b')\n",
    "q.append(3)"
   ]
  },
  {
   "cell_type": "code",
   "execution_count": 53,
   "metadata": {},
   "outputs": [
    {
     "name": "stdout",
     "output_type": "stream",
     "text": [
      "deque(['a', 'b', 3])\n",
      "['a', 'b', 3]\n"
     ]
    }
   ],
   "source": [
    "print(q)\n",
    "print(list(q))"
   ]
  },
  {
   "cell_type": "code",
   "execution_count": 54,
   "metadata": {},
   "outputs": [
    {
     "name": "stdout",
     "output_type": "stream",
     "text": [
      "a\n",
      "b\n"
     ]
    }
   ],
   "source": [
    "print(q.popleft())\n",
    "print(q.popleft())\n"
   ]
  },
  {
   "cell_type": "code",
   "execution_count": 55,
   "metadata": {},
   "outputs": [
    {
     "name": "stdout",
     "output_type": "stream",
     "text": [
      "[3]\n",
      "1\n"
     ]
    }
   ],
   "source": [
    "print(list(q))\n",
    "print(len(q))"
   ]
  },
  {
   "cell_type": "code",
   "execution_count": null,
   "metadata": {},
   "outputs": [],
   "source": []
  },
  {
   "cell_type": "markdown",
   "metadata": {},
   "source": [
    "## Stack in Python"
   ]
  },
  {
   "cell_type": "code",
   "execution_count": 56,
   "metadata": {},
   "outputs": [],
   "source": [
    "stack = deque()"
   ]
  },
  {
   "cell_type": "code",
   "execution_count": 57,
   "metadata": {},
   "outputs": [
    {
     "name": "stdout",
     "output_type": "stream",
     "text": [
      "deque(['a', 'b', 3, 'fds'])\n",
      "['a', 'b', 3, 'fds']\n"
     ]
    }
   ],
   "source": [
    "stack.append('a')\n",
    "stack.append('b')\n",
    "stack.append(3)\n",
    "stack.append('fds')\n",
    "\n",
    "print(stack)\n",
    "print(list(stack))\n"
   ]
  },
  {
   "cell_type": "code",
   "execution_count": 58,
   "metadata": {},
   "outputs": [
    {
     "name": "stdout",
     "output_type": "stream",
     "text": [
      "fds\n",
      "3\n"
     ]
    }
   ],
   "source": [
    "print(stack.pop())\n",
    "print(stack.pop())\n"
   ]
  },
  {
   "cell_type": "code",
   "execution_count": 59,
   "metadata": {},
   "outputs": [
    {
     "name": "stdout",
     "output_type": "stream",
     "text": [
      "['a', 'b']\n",
      "2\n"
     ]
    }
   ],
   "source": [
    "print(list(stack))\n",
    "print(len(stack))"
   ]
  },
  {
   "cell_type": "code",
   "execution_count": null,
   "metadata": {},
   "outputs": [],
   "source": []
  }
 ],
 "metadata": {
  "interpreter": {
   "hash": "31f2aee4e71d21fbe5cf8b01ff0e069b9275f58929596ceb00d14d90e3e16cd6"
  },
  "kernelspec": {
   "display_name": "Python 3.7.3 64-bit",
   "language": "python",
   "name": "python3"
  },
  "language_info": {
   "codemirror_mode": {
    "name": "ipython",
    "version": 3
   },
   "file_extension": ".py",
   "mimetype": "text/x-python",
   "name": "python",
   "nbconvert_exporter": "python",
   "pygments_lexer": "ipython3",
   "version": "3.7.3"
  },
  "orig_nbformat": 4
 },
 "nbformat": 4,
 "nbformat_minor": 2
}
